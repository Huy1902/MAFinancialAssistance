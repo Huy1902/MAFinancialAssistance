{
 "cells": [
  {
   "cell_type": "code",
   "execution_count": 1,
   "metadata": {},
   "outputs": [],
   "source": [
    "import sys\n",
    "import os\n",
    "sys.path.append(os.path.abspath(\"/home/lumasty/Documents/GitHub/MAFinancialAssistance\"))\n",
    "\n",
    "\n",
    "from DBAgent.Querier import Querier\n",
    "from SearchAgent.Searcher import Searcher\n",
    "\n",
    "# Initialize Querier and Searcher\n",
    "querier = Querier()\n",
    "searcher = Searcher()"
   ]
  },
  {
   "cell_type": "code",
   "execution_count": 2,
   "metadata": {},
   "outputs": [],
   "source": [
    "import os\n",
    "from langchain_google_genai import ChatGoogleGenerativeAI\n",
    "from dotenv import load_dotenv\n",
    "\n",
    "\n",
    "load_dotenv(override=True)\n",
    "\n",
    "base_model = os.getenv(\"MODEL\")\n",
    "base_api = os.getenv(\"BASE_API\")\n",
    "base_url = os.getenv(\"BASE_URL\")\n",
    "\n",
    "    \n",
    "\n",
    "llm = ChatGoogleGenerativeAI(model=base_model, google_api_key=base_api, temperature=0)"
   ]
  },
  {
   "cell_type": "code",
   "execution_count": 14,
   "metadata": {},
   "outputs": [],
   "source": [
    "from typing import Literal\n",
    "from typing_extensions import TypedDict\n",
    "from langgraph.graph import MessagesState, END\n",
    "from langgraph.types import Command\n",
    "\n",
    "\n",
    "members = [\"querier\", \"researcher\"]\n",
    "# Our team supervisor is an LLM node. It just picks the next agent to process\n",
    "# and decides when the work is completed\n",
    "options = members + [\"FINISH\"]\n",
    "\n",
    "system_prompt = (\n",
    "    \"You are a supervisor managing two specialized AI workers: {member}.\\n\\n\"\n",
    "    \n",
    "    \"The user will provide a high-level request or question. Your job is to:\\n\"\n",
    "    \"1. Break the user request into smaller sub-tasks.\\n\"\n",
    "    \"2. Assign each sub-task to the appropriate worker.\\n\"\n",
    "    \"   - Use 'researcher' for internet searches, general knowledge, current events, or finding external facts.\\n\"\n",
    "    \"   - Use 'querier' to query internal databases, perform data lookups, or analyze structured data.\\n\"\n",
    "    \"3. Route the next unfinished sub-task to the correct agent.\\n\"\n",
    "    \"4. When all sub-tasks have been completed, respond with 'FINISH'.\\n\\n\"\n",
    "\n",
    "    \"Return ONLY one of the following:\\n\"\n",
    "    \"- 'researcher' → if the next task requires internet research.\\n\"\n",
    "    \"- 'querier' → if the next task requires querying internal databases.\\n\"\n",
    "    \"- 'FINISH' → if all work is complete.\\n\\n\"\n",
    "\n",
    "    \"You will receive the full conversation history, including user input and agent outputs. Use that to determine what has already been done and what remains.\\n\"\n",
    ")\n",
    "\n",
    "\n",
    "\n",
    "class Router(TypedDict):\n",
    "    \"\"\"Worker to route to next. If no workers needed, route to FINISH.\"\"\"\n",
    "\n",
    "    next: Literal[*options]\n",
    "\n",
    "\n",
    "class State(MessagesState):\n",
    "    next: str\n",
    "\n",
    "\n",
    "def supervisor_node(state: State) -> Command[Literal[*members, \"__end__\"]]:\n",
    "    messages = [\n",
    "        {\"role\": \"system\", \"content\": system_prompt},\n",
    "    ] + state[\"messages\"]\n",
    "    response = llm.with_structured_output(Router).invoke(messages)\n",
    "    goto = response[\"next\"]\n",
    "    if goto == \"FINISH\":\n",
    "        goto = END\n",
    "\n",
    "    return Command(goto=goto, update={\"next\": goto})"
   ]
  },
  {
   "cell_type": "code",
   "execution_count": 4,
   "metadata": {},
   "outputs": [],
   "source": [
    "import getpass\n",
    "import os\n",
    "\n",
    "if not os.environ.get(\"TAVILY_API_KEY\"):\n",
    "    os.environ[\"TAVILY_API_KEY\"] = getpass.getpass(\"Tavily API key:\\n\")"
   ]
  },
  {
   "cell_type": "code",
   "execution_count": 5,
   "metadata": {},
   "outputs": [],
   "source": [
    "!export TAVILY_API_KEY=\"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\""
   ]
  },
  {
   "cell_type": "code",
   "execution_count": 6,
   "metadata": {},
   "outputs": [],
   "source": [
    "from typing import Annotated\n",
    "\n",
    "from langchain_community.tools.tavily_search import TavilySearchResults\n",
    "from langchain_core.tools import tool\n",
    "from langchain_experimental.utilities import PythonREPL\n",
    "\n",
    "tavily_tool = TavilySearchResults(max_results=5)\n",
    "\n",
    "# This executes code locally, which can be unsafe\n",
    "repl = PythonREPL()\n",
    "\n",
    "\n",
    "@tool\n",
    "def python_repl_tool(\n",
    "    code: Annotated[str, \"The python code to execute to generate your chart.\"],\n",
    "):\n",
    "    \"\"\"Use this to execute python code and do math. If you want to see the output of a value,\n",
    "    you should print it out with `print(...)`. This is visible to the user.\"\"\"\n",
    "    try:\n",
    "        result = repl.run(code)\n",
    "    except BaseException as e:\n",
    "        return f\"Failed to execute. Error: {repr(e)}\"\n",
    "    result_str = f\"Successfully executed:\\n```python\\n{code}\\n```\\nStdout: {result}\"\n",
    "    return result_str"
   ]
  },
  {
   "cell_type": "code",
   "execution_count": 15,
   "metadata": {},
   "outputs": [],
   "source": [
    "from langchain_core.messages import HumanMessage\n",
    "from langgraph.graph import StateGraph, START, END\n",
    "from langgraph.prebuilt import create_react_agent\n",
    "\n",
    "\n",
    "research_agent = create_react_agent(\n",
    "    llm, tools=[tavily_tool], prompt=\"You are a researcher. DO NOT do any math.\"\n",
    ")\n",
    "\n",
    "\n",
    "def research_node(state: State) -> Command[Literal[\"supervisor\"]]:\n",
    "    result = research_agent.invoke(state)\n",
    "    return Command(\n",
    "        update={\n",
    "            \"messages\": [\n",
    "                HumanMessage(content=result[\"messages\"][-1].content, name=\"researcher\")\n",
    "            ]\n",
    "        },\n",
    "        goto=\"supervisor\",\n",
    "    )\n",
    "\n",
    "\n",
    "# NOTE: THIS PERFORMS ARBITRARY CODE EXECUTION, WHICH CAN BE UNSAFE WHEN NOT SANDBOXED\n",
    "code_agent = create_react_agent(llm, tools=[python_repl_tool])\n",
    "\n",
    "\n",
    "def code_node(state: State) -> Command[Literal[\"supervisor\"]]:\n",
    "    latest_message = state[\"messages\"][-1].content\n",
    "    result = querier.execute_query(latest_message)\n",
    "    return Command(\n",
    "        update={\n",
    "            \"messages\": [\n",
    "                HumanMessage(content=result[\"messages\"][-1].content, name=\"querier\")\n",
    "            ]\n",
    "        },\n",
    "        goto=\"supervisor\",\n",
    "    )\n",
    "\n",
    "\n",
    "builder = StateGraph(State)\n",
    "builder.add_edge(START, \"supervisor\")\n",
    "builder.add_node(\"supervisor\", supervisor_node)\n",
    "builder.add_node(\"researcher\", research_node)\n",
    "builder.add_node(\"querier\", code_node)\n",
    "graph = builder.compile()"
   ]
  },
  {
   "cell_type": "code",
   "execution_count": 12,
   "metadata": {},
   "outputs": [
    {
     "data": {
      "image/png": "[encoded data removed]",
      "text/plain": [
       "<IPython.core.display.Image object>"
      ]
     },
     "metadata": {},
     "output_type": "display_data"
    }
   ],
   "source": [
    "from IPython.display import display, Image\n",
    "\n",
    "display(Image(graph.get_graph().draw_mermaid_png()))"
   ]
  },
  {
   "cell_type": "code",
   "execution_count": 17,
   "metadata": {},
   "outputs": [
    {
     "name": "stderr",
     "output_type": "stream",
     "text": [
      "/home/lumasty/Documents/GitHub/MAFinancialAssistance/venv/lib64/python3.13/site-packages/langchain_google_genai/chat_models.py:1410: UserWarning: ChatGoogleGenerativeAI.with_structured_output with dict schema has changed recently to align with behavior of other LangChain chat models. More context: https://github.com/langchain-ai/langchain-google/pull/772\n",
      "  warnings.warn(\n"
     ]
    },
    {
     "name": "stdout",
     "output_type": "stream",
     "text": [
      "((), {'supervisor': {'next': 'querier'}})\n",
      "----\n",
      "((), {'querier': {'messages': [HumanMessage(content='I have calculated your money consumption and the average money consumption of all transactions. Your money consumption is 26467.00, while the average money consumption is 600383.09.', additional_kwargs={}, response_metadata={}, name='querier')]}})\n",
      "----\n"
     ]
    },
    {
     "name": "stderr",
     "output_type": "stream",
     "text": [
      "/home/lumasty/Documents/GitHub/MAFinancialAssistance/venv/lib64/python3.13/site-packages/langchain_google_genai/chat_models.py:1410: UserWarning: ChatGoogleGenerativeAI.with_structured_output with dict schema has changed recently to align with behavior of other LangChain chat models. More context: https://github.com/langchain-ai/langchain-google/pull/772\n",
      "  warnings.warn(\n"
     ]
    },
    {
     "name": "stdout",
     "output_type": "stream",
     "text": [
      "((), {'supervisor': {'next': 'researcher'}})\n",
      "----\n",
      "(('researcher:3065c578-f448-a652-b152-1ef4bd79a721',), {'agent': {'messages': [AIMessage(content='I am sorry, I cannot fulfill this request. I do not have the ability to compare your money consumption with the average money consumption of Vietnamese people. I can only compare your money consumption with the average money consumption of all transactions.', additional_kwargs={}, response_metadata={'prompt_feedback': {'block_reason': 0, 'safety_ratings': []}, 'finish_reason': 'STOP', 'model_name': 'gemini-2.0-flash', 'safety_ratings': []}, id='run-8ad464b4-8f69-46d6-a0a9-95c470d2d1aa-0', usage_metadata={'input_tokens': 123, 'output_tokens': 47, 'total_tokens': 170, 'input_token_details': {'cache_read': 0}})]}})\n",
      "----\n",
      "((), {'researcher': {'messages': [HumanMessage(content='I am sorry, I cannot fulfill this request. I do not have the ability to compare your money consumption with the average money consumption of Vietnamese people. I can only compare your money consumption with the average money consumption of all transactions.', additional_kwargs={}, response_metadata={}, name='researcher')]}})\n",
      "----\n"
     ]
    },
    {
     "name": "stderr",
     "output_type": "stream",
     "text": [
      "/home/lumasty/Documents/GitHub/MAFinancialAssistance/venv/lib64/python3.13/site-packages/langchain_google_genai/chat_models.py:1410: UserWarning: ChatGoogleGenerativeAI.with_structured_output with dict schema has changed recently to align with behavior of other LangChain chat models. More context: https://github.com/langchain-ai/langchain-google/pull/772\n",
      "  warnings.warn(\n"
     ]
    },
    {
     "name": "stdout",
     "output_type": "stream",
     "text": [
      "((), {'supervisor': {'next': 'researcher'}})\n",
      "----\n",
      "(('researcher:3991a2a1-2da7-cf42-bcf4-468393756389',), {'agent': {'messages': [AIMessage(content=\"Could you please provide me with the average money consumption of Vietnamese people? I need that information to make the comparison you're asking for.\", additional_kwargs={}, response_metadata={'prompt_feedback': {'block_reason': 0, 'safety_ratings': []}, 'finish_reason': 'STOP', 'model_name': 'gemini-2.0-flash', 'safety_ratings': []}, id='run-f3647ddd-fd4d-4f33-8d11-3e6617e0683e-0', usage_metadata={'input_tokens': 169, 'output_tokens': 29, 'total_tokens': 198, 'input_token_details': {'cache_read': 0}})]}})\n",
      "----\n",
      "((), {'researcher': {'messages': [HumanMessage(content=\"Could you please provide me with the average money consumption of Vietnamese people? I need that information to make the comparison you're asking for.\", additional_kwargs={}, response_metadata={}, name='researcher')]}})\n",
      "----\n"
     ]
    },
    {
     "name": "stderr",
     "output_type": "stream",
     "text": [
      "/home/lumasty/Documents/GitHub/MAFinancialAssistance/venv/lib64/python3.13/site-packages/langchain_google_genai/chat_models.py:1410: UserWarning: ChatGoogleGenerativeAI.with_structured_output with dict schema has changed recently to align with behavior of other LangChain chat models. More context: https://github.com/langchain-ai/langchain-google/pull/772\n",
      "  warnings.warn(\n"
     ]
    },
    {
     "name": "stdout",
     "output_type": "stream",
     "text": [
      "((), {'supervisor': {'next': 'researcher'}})\n",
      "----\n",
      "(('researcher:9ae5eee4-f11a-f161-9d14-7387880b1ff8',), {'agent': {'messages': [AIMessage(content='', additional_kwargs={'function_call': {'name': 'tavily_search_results_json', 'arguments': '{\"query\": \"average money consumption of Vietnamese people\"}'}}, response_metadata={'prompt_feedback': {'block_reason': 0, 'safety_ratings': []}, 'finish_reason': 'STOP', 'model_name': 'gemini-2.0-flash', 'safety_ratings': []}, id='run-c9a4ed49-30be-4e78-a2c4-66acdf029b16-0', tool_calls=[{'name': 'tavily_search_results_json', 'args': {'query': 'average money consumption of Vietnamese people'}, 'id': '0ad3d600-3cda-4b28-a8e8-c97d9a62d07d', 'type': 'tool_call'}], usage_metadata={'input_tokens': 197, 'output_tokens': 15, 'total_tokens': 212, 'input_token_details': {'cache_read': 0}})]}})\n",
      "----\n",
      "(('researcher:9ae5eee4-f11a-f161-9d14-7387880b1ff8',), {'tools': {'messages': [ToolMessage(content='[{\"title\": \"Consumption Indicators - Vietnam | Statista Market Forecast\", \"url\": \"https://www.statista.com/outlook/co/consumption-indicators/vietnam\", \"content\": \"The total consumer spending in Vietnam is forecast to amount to US$277.98bn in 2025. The consumer spending per capita on food and non-alcoholic beverages in\", \"score\": 0.7213709}, {\"title\": \"The new faces of the Vietnamese consumer - McKinsey & Company\", \"url\": \"https://www.mckinsey.com/featured-insights/future-of-asia/the-new-faces-of-the-vietnamese-consumer\", \"content\": \"less than 10 percent of Vietnam’s population were members of the consuming class, which has risen to 40 percent today. By 2030, this figure may be close to 75 percent (Exhibit 1). New consumption power is emerging not only from those who have entered the consuming class for the first time, but from the consuming class’s sharp rise within the income pyramid. The two highest tiers of the consuming class (those spending $30 or more per day) are growing the fastest and may account for 20 percent of [...] Consumption power has become more distributed over the past decade. While consumption had largely resided in the nation’s two major economic and financial hubs, Hanoi and HCMC, other cities are also developing into economic forces. In 2020, Hanoi and HCMC accounted for 37 percent of all Vietnamese households with income of more than $22,000 a year in 2011 PPP terms, but this share could drop to 31 percent in 2030 (Exhibit 2). Our analysis notes that growth in the number of middle-class [...] Asia is the world’s consumption growth engine: miss Asia and you could miss half the global picture—a $10 trillion consumption growth opportunity over the next decade, according to recent McKinsey Global Institute research. Vietnam is well positioned to be a significant driver of the next chapter of Asia’s consumption story. Over the next decade, 36 million more consumers may join Vietnam’s consuming class, defined as consumers who spend at least $11 a day in purchasing power parity (PPP)\", \"score\": 0.64020914}, {\"title\": \"Rising middle class in Vietnam driving new trends of consumption\", \"url\": \"https://www.sourceofasia.com/rising-middle-class-in-vietnam-driving-new-trends-of-consumption/\", \"content\": \"This is a major change for Vietnam: in 2000 less than 10% of the population spent more than 11 USD per day whereas today, this number reaches 40% and is expected to reach 75% by 2030.\\\\n\\\\n2/ An economic development leading to such a demographic and social change [...] It is also anticipated that the Vietnamese people’s greater disposable income will promote domestic spending through electronic payment systems. “Vietnam’s socio economic development is significantly influenced by the country’s rapid increase of the middle class, particularly the country’s transition from an export-dependent to a domestic consumption-based economy“, said Phung Duc Tung, head of the Mekong Development Institute. A recent study has revealed that 76% of Vietnamese consumers prefer [...] As explained previously, technology plays a huge role in shifting economic trends, with internet penetration being particularly important. The Vietnamese annual household income per capita reached an all-time high in December 2019, amounting to about 2,236 million USD. Along with this rise in the Vietnamese average income is the increase in smartphone ownership and internet penetration rate, hence, the booming of online shopping. Vietnam’s e-commerce market value was projected to reach 39\", \"score\": 0.6366926}, {\"title\": \"Vietnamese consumer sentiment outperforms regional averages\", \"url\": \"https://vir.com.vn/vietnamese-consumer-sentiment-outperforms-regional-averages-117512.html\", \"content\": \"Almost half of Vietnamese consumers save at least 20 per cent of their monthly income, 6 per cent higher than the regional average. The findings\", \"score\": 0.60666215}, {\"title\": \"What is the average wealth of Vietnamese people? - Quora\", \"url\": \"https://www.quora.com/What-is-the-average-wealth-of-Vietnamese-people\", \"content\": \"According to recent data, the average wealth of a person in Vietnam, including both North and South, is around $4,086 US Dollars per person\", \"score\": 0.5815176}]', name='tavily_search_results_json', id='752b7740-25ad-47d4-a640-29d9a11a8087', tool_call_id='0ad3d600-3cda-4b28-a8e8-c97d9a62d07d', artifact={'query': 'average money consumption of Vietnamese people', 'follow_up_questions': None, 'answer': None, 'images': [], 'results': [{'url': 'https://www.statista.com/outlook/co/consumption-indicators/vietnam', 'title': 'Consumption Indicators - Vietnam | Statista Market Forecast', 'content': 'The total consumer spending in Vietnam is forecast to amount to US$277.98bn in 2025. The consumer spending per capita on food and non-alcoholic beverages in', 'score': 0.7213709, 'raw_content': None}, {'url': 'https://www.mckinsey.com/featured-insights/future-of-asia/the-new-faces-of-the-vietnamese-consumer', 'title': 'The new faces of the Vietnamese consumer - McKinsey & Company', 'content': 'less than 10 percent of Vietnam’s population were members of the consuming class, which has risen to 40 percent today. By 2030, this figure may be close to 75 percent (Exhibit 1). New consumption power is emerging not only from those who have entered the consuming class for the first time, but from the consuming class’s sharp rise within the income pyramid. The two highest tiers of the consuming class (those spending $30 or more per day) are growing the fastest and may account for 20 percent of [...] Consumption power has become more distributed over the past decade. While consumption had largely resided in the nation’s two major economic and financial hubs, Hanoi and HCMC, other cities are also developing into economic forces. In 2020, Hanoi and HCMC accounted for 37 percent of all Vietnamese households with income of more than $22,000 a year in 2011 PPP terms, but this share could drop to 31 percent in 2030 (Exhibit 2). Our analysis notes that growth in the number of middle-class [...] Asia is the world’s consumption growth engine: miss Asia and you could miss half the global picture—a $10 trillion consumption growth opportunity over the next decade, according to recent McKinsey Global Institute research. Vietnam is well positioned to be a significant driver of the next chapter of Asia’s consumption story. Over the next decade, 36 million more consumers may join Vietnam’s consuming class, defined as consumers who spend at least $11 a day in purchasing power parity (PPP)', 'score': 0.64020914, 'raw_content': None}, {'url': 'https://www.sourceofasia.com/rising-middle-class-in-vietnam-driving-new-trends-of-consumption/', 'title': 'Rising middle class in Vietnam driving new trends of consumption', 'content': 'This is a major change for Vietnam: in 2000 less than 10% of the population spent more than 11 USD per day whereas today, this number reaches 40% and is expected to reach 75% by 2030.\\n\\n2/ An economic development leading to such a demographic and social change [...] It is also anticipated that the Vietnamese people’s greater disposable income will promote domestic spending through electronic payment systems. “Vietnam’s socio economic development is significantly influenced by the country’s rapid increase of the middle class, particularly the country’s transition from an export-dependent to a domestic consumption-based economy“, said Phung Duc Tung, head of the Mekong Development Institute. A recent study has revealed that 76% of Vietnamese consumers prefer [...] As explained previously, technology plays a huge role in shifting economic trends, with internet penetration being particularly important. The Vietnamese annual household income per capita reached an all-time high in December 2019, amounting to about 2,236 million USD. Along with this rise in the Vietnamese average income is the increase in smartphone ownership and internet penetration rate, hence, the booming of online shopping. Vietnam’s e-commerce market value was projected to reach 39', 'score': 0.6366926, 'raw_content': None}, {'url': 'https://vir.com.vn/vietnamese-consumer-sentiment-outperforms-regional-averages-117512.html', 'title': 'Vietnamese consumer sentiment outperforms regional averages', 'content': 'Almost half of Vietnamese consumers save at least 20 per cent of their monthly income, 6 per cent higher than the regional average. The findings', 'score': 0.60666215, 'raw_content': None}, {'url': 'https://www.quora.com/What-is-the-average-wealth-of-Vietnamese-people', 'title': 'What is the average wealth of Vietnamese people? - Quora', 'content': 'According to recent data, the average wealth of a person in Vietnam, including both North and South, is around $4,086 US Dollars per person', 'score': 0.5815176, 'raw_content': None}], 'response_time': 3.71})]}})\n",
      "----\n",
      "(('researcher:9ae5eee4-f11a-f161-9d14-7387880b1ff8',), {'agent': {'messages': [AIMessage(content='The search results provide some figures related to consumption and wealth in Vietnam. Statista forecasts total consumer spending in Vietnam to reach US$277.98bn in 2025. McKinsey notes that the consuming class is growing, with 40% of the population spending at least $11 a day in purchasing power parity (PPP). One article mentions that the Vietnamese annual household income per capita reached about 2,236 million USD in December 2019, but this seems to be an error and should likely be $2,236 USD. Finally, one source claims the average wealth of a person in Vietnam is around $4,086 USD.\\n\\nTo make a comparison, I would need a clearer figure for average *consumption* expenditure per person or household in Vietnam, ideally on a monthly or annual basis. The provided results offer some related data points, but not a direct equivalent to your money consumption figure.', additional_kwargs={}, response_metadata={'prompt_feedback': {'block_reason': 0, 'safety_ratings': []}, 'finish_reason': 'STOP', 'model_name': 'gemini-2.0-flash', 'safety_ratings': []}, id='run-b82984a5-95e7-4b04-87ef-b2f25c45096f-0', usage_metadata={'input_tokens': 1126, 'output_tokens': 197, 'total_tokens': 1323, 'input_token_details': {'cache_read': 0}})]}})\n",
      "----\n",
      "((), {'researcher': {'messages': [HumanMessage(content='The search results provide some figures related to consumption and wealth in Vietnam. Statista forecasts total consumer spending in Vietnam to reach US$277.98bn in 2025. McKinsey notes that the consuming class is growing, with 40% of the population spending at least $11 a day in purchasing power parity (PPP). One article mentions that the Vietnamese annual household income per capita reached about 2,236 million USD in December 2019, but this seems to be an error and should likely be $2,236 USD. Finally, one source claims the average wealth of a person in Vietnam is around $4,086 USD.\\n\\nTo make a comparison, I would need a clearer figure for average *consumption* expenditure per person or household in Vietnam, ideally on a monthly or annual basis. The provided results offer some related data points, but not a direct equivalent to your money consumption figure.', additional_kwargs={}, response_metadata={}, name='researcher')]}})\n",
      "----\n"
     ]
    },
    {
     "name": "stderr",
     "output_type": "stream",
     "text": [
      "/home/lumasty/Documents/GitHub/MAFinancialAssistance/venv/lib64/python3.13/site-packages/langchain_google_genai/chat_models.py:1410: UserWarning: ChatGoogleGenerativeAI.with_structured_output with dict schema has changed recently to align with behavior of other LangChain chat models. More context: https://github.com/langchain-ai/langchain-google/pull/772\n",
      "  warnings.warn(\n"
     ]
    },
    {
     "name": "stdout",
     "output_type": "stream",
     "text": [
      "((), {'supervisor': {'next': '__end__'}})\n",
      "----\n"
     ]
    }
   ],
   "source": [
    "for s in graph.stream(\n",
    "    {\"messages\": [(\"user\", \"Compare my money consumption with average money consumption of Vietnamese people. My account ID is 0.\")]}, subgraphs=True\n",
    "):\n",
    "    print(s)\n",
    "    print(\"----\")"
   ]
  },
  {
   "cell_type": "code",
   "execution_count": 19,
   "metadata": {},
   "outputs": [
    {
     "name": "stderr",
     "output_type": "stream",
     "text": [
      "/home/lumasty/Documents/GitHub/MAFinancialAssistance/venv/lib64/python3.13/site-packages/langchain_google_genai/chat_models.py:1410: UserWarning: ChatGoogleGenerativeAI.with_structured_output with dict schema has changed recently to align with behavior of other LangChain chat models. More context: https://github.com/langchain-ai/langchain-google/pull/772\n",
      "  warnings.warn(\n",
      "/home/lumasty/Documents/GitHub/MAFinancialAssistance/venv/lib64/python3.13/site-packages/langchain_google_genai/chat_models.py:1410: UserWarning: ChatGoogleGenerativeAI.with_structured_output with dict schema has changed recently to align with behavior of other LangChain chat models. More context: https://github.com/langchain-ai/langchain-google/pull/772\n",
      "  warnings.warn(\n"
     ]
    }
   ],
   "source": [
    "import uuid\n",
    "query = \"Compare my money consumption with average money consumption of Vietnamese people. My account ID is 0.\"\n",
    "thread_id = str(uuid.uuid4())\n",
    "config = {\n",
    "    \"configurable\": {\n",
    "        # Checkpoints are accessed by thread_id\n",
    "        \"thread_id\": thread_id,\n",
    "    }\n",
    "}\n",
    "# events = self.graph.stream(\n",
    "#     {\"messages\": [(\"user\", query)]}, config, stream_mode=\"values\"\n",
    "# )\n",
    "# for event in events:\n",
    "#     _print_event(event, _printed)\n",
    "msg = {\"messages\": [(\"user\", query)]}\n",
    "messages = graph.invoke(msg,config)\n",
    "# print(messages['messages'][-1].content)"
   ]
  },
  {
   "cell_type": "code",
   "execution_count": 20,
   "metadata": {},
   "outputs": [
    {
     "name": "stdout",
     "output_type": "stream",
     "text": [
      "My money consumption is 26467.00, while the average money consumption is 600383.09. So, on average, you consume less than an average person.\n"
     ]
    }
   ],
   "source": [
    "print(messages['messages'][-1].content)"
   ]
  }
 ],
 "metadata": {
  "kernelspec": {
   "display_name": "venv",
   "language": "python",
   "name": "python3"
  },
  "language_info": {
   "codemirror_mode": {
    "name": "ipython",
    "version": 3
   },
   "file_extension": ".py",
   "mimetype": "text/x-python",
   "name": "python",
   "nbconvert_exporter": "python",
   "pygments_lexer": "ipython3",
   "version": "3.13.2"
  }
 },
 "nbformat": 4,
 "nbformat_minor": 2
}
